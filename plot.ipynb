{
 "cells": [
  {
   "cell_type": "code",
   "id": "initial_id",
   "metadata": {
    "collapsed": true,
    "ExecuteTime": {
     "end_time": "2024-09-13T05:31:59.104749Z",
     "start_time": "2024-09-13T05:31:54.346986Z"
    }
   },
   "source": [
    "import math\n",
    "\n",
    "import matplotlib.pyplot as plt\n",
    "import gradio as gr\n",
    "import numpy as np\n",
    "\n",
    "from utils import read_and_parse"
   ],
   "outputs": [
    {
     "name": "stderr",
     "output_type": "stream",
     "text": [
      "C:\\Users\\ricar\\PycharmProjects\\Automatization\\venv\\Lib\\site-packages\\tqdm\\auto.py:21: TqdmWarning: IProgress not found. Please update jupyter and ipywidgets. See https://ipywidgets.readthedocs.io/en/stable/user_install.html\n",
      "  from .autonotebook import tqdm as notebook_tqdm\n"
     ]
    },
    {
     "name": "stdout",
     "output_type": "stream",
     "text": [
      "Importing numpy...\n",
      "Time elapsed to import numpy: 9.00006853044033e-06\n",
      "Importing pandas...\n",
      "Time elapsed to import pandas: 4.600035026669502e-06\n",
      "Importing os...\n",
      "Time elapsed to import os: 2.00001522898674e-06\n"
     ]
    }
   ],
   "execution_count": 1
  },
  {
   "metadata": {
    "ExecuteTime": {
     "end_time": "2024-09-13T05:31:59.217264Z",
     "start_time": "2024-09-13T05:31:59.213036Z"
    }
   },
   "cell_type": "code",
   "source": [
    "def view_image(pixels: np.ndarray):\n",
    "    plt.imshow(pixels.astype(np.uint8))\n",
    "    plt.show()\n",
    "    \n",
    "def down_sample(pixels: np.ndarray, d: int) -> np.ndarray:\n",
    "    return pixels[::d, ::d].astype(np.uint8)"
   ],
   "id": "2c1d52d482e1a5a5",
   "outputs": [],
   "execution_count": 2
  },
  {
   "metadata": {
    "ExecuteTime": {
     "end_time": "2024-09-13T06:08:15.411978Z",
     "start_time": "2024-09-13T06:08:14.801326Z"
    }
   },
   "cell_type": "code",
   "source": "xs, ys = read_and_parse('osu', 16)",
   "id": "4106c558be4c96bb",
   "outputs": [
    {
     "name": "stdout",
     "output_type": "stream",
     "text": [
      "Time elapsed to run check_path_exists: 0.000659500015899539\n",
      "Time elapsed to run read_and_parse: 0.6014449000358582\n"
     ]
    }
   ],
   "execution_count": 34
  },
  {
   "metadata": {
    "ExecuteTime": {
     "end_time": "2024-09-13T06:08:17.951990Z",
     "start_time": "2024-09-13T06:08:17.944503Z"
    }
   },
   "cell_type": "code",
   "source": "xs[0].shape, ys[0]",
   "id": "2694b4ad9730a65a",
   "outputs": [
    {
     "data": {
      "text/plain": [
       "((68, 120, 3), array([53., 25.,  1.], dtype=float32))"
      ]
     },
     "execution_count": 35,
     "metadata": {},
     "output_type": "execute_result"
    }
   ],
   "execution_count": 35
  },
  {
   "metadata": {
    "ExecuteTime": {
     "end_time": "2024-09-13T06:09:00.624988Z",
     "start_time": "2024-09-13T06:09:00.619956Z"
    }
   },
   "cell_type": "code",
   "source": "xs.shape = (len(xs), -1)",
   "id": "587ae7f8d6aee485",
   "outputs": [],
   "execution_count": 36
  },
  {
   "metadata": {
    "ExecuteTime": {
     "end_time": "2024-09-13T06:14:41.991014Z",
     "start_time": "2024-09-13T06:14:41.975187Z"
    }
   },
   "cell_type": "code",
   "source": [
    "mb=xs.nbytes // 1024 // 1024\n",
    "print(f'{mb} MB')"
   ],
   "id": "d74dc06c71663d2d",
   "outputs": [
    {
     "name": "stdout",
     "output_type": "stream",
     "text": [
      "5 MB\n"
     ]
    }
   ],
   "execution_count": 48
  },
  {
   "metadata": {
    "ExecuteTime": {
     "end_time": "2024-09-13T05:32:46.692481Z",
     "start_time": "2024-09-13T05:32:46.535523Z"
    }
   },
   "cell_type": "code",
   "source": "view_image(xs[0])",
   "id": "9667abe5c30fc734",
   "outputs": [
    {
     "data": {
      "text/plain": [
       "<Figure size 640x480 with 1 Axes>"
      ],
      "image/png": "[encoded data removed]"
     },
     "metadata": {},
     "output_type": "display_data"
    }
   ],
   "execution_count": 11
  },
  {
   "metadata": {
    "ExecuteTime": {
     "end_time": "2024-09-13T05:02:42.259494Z",
     "start_time": "2024-09-13T05:02:40.724714Z"
    }
   },
   "cell_type": "code",
   "source": [
    "down_sampling = 1\n",
    "\n",
    "def get_image(number: int) -> np.ndarray:\n",
    "    img = down_sample(xs[number], down_sampling)\n",
    "    print(img.shape)\n",
    "    return img\n",
    "\n",
    "demo = gr.Interface(\n",
    "    get_image,\n",
    "    inputs=gr.Slider(0, len(xs) - 1, step=1),\n",
    "    outputs=gr.Image()\n",
    ")\n",
    "\n",
    "demo.launch()"
   ],
   "id": "424ad4ced9f52b52",
   "outputs": [
    {
     "name": "stdout",
     "output_type": "stream",
     "text": [
      "Running on local URL:  http://127.0.0.1:7868\n",
      "\n",
      "To create a public link, set `share=True` in `launch()`.\n"
     ]
    },
    {
     "data": {
      "text/plain": [
       "<IPython.core.display.HTML object>"
      ],
      "text/html": [
       "<div><iframe src=\"http://127.0.0.1:7868/\" width=\"100%\" height=\"500\" allow=\"autoplay; camera; microphone; clipboard-read; clipboard-write;\" frameborder=\"0\" allowfullscreen></iframe></div>"
      ]
     },
     "metadata": {},
     "output_type": "display_data"
    },
    {
     "data": {
      "text/plain": []
     },
     "execution_count": 20,
     "metadata": {},
     "output_type": "execute_result"
    }
   ],
   "execution_count": 20
  },
  {
   "metadata": {
    "ExecuteTime": {
     "end_time": "2024-09-13T05:34:05.772213Z",
     "start_time": "2024-09-13T05:34:05.767448Z"
    }
   },
   "cell_type": "code",
   "source": "img = down_sample(xs[0], 1)",
   "id": "e4d3fce5f3536c32",
   "outputs": [],
   "execution_count": 12
  },
  {
   "metadata": {
    "ExecuteTime": {
     "end_time": "2024-09-13T05:34:06.628002Z",
     "start_time": "2024-09-13T05:34:06.624217Z"
    }
   },
   "cell_type": "code",
   "source": "x, y, action = ys[0]",
   "id": "96ece46ae5dc5e4",
   "outputs": [],
   "execution_count": 13
  },
  {
   "metadata": {
    "ExecuteTime": {
     "end_time": "2024-09-13T05:34:07.974747Z",
     "start_time": "2024-09-13T05:34:07.965955Z"
    }
   },
   "cell_type": "code",
   "source": "img[int(y), int(x)]",
   "id": "e354a35df9a01a03",
   "outputs": [
    {
     "data": {
      "text/plain": [
       "array([30, 30, 30], dtype=uint8)"
      ]
     },
     "execution_count": 14,
     "metadata": {},
     "output_type": "execute_result"
    }
   ],
   "execution_count": 14
  },
  {
   "metadata": {
    "ExecuteTime": {
     "end_time": "2024-09-13T05:34:42.757523Z",
     "start_time": "2024-09-13T05:34:42.662174Z"
    }
   },
   "cell_type": "code",
   "source": "view_image(img)",
   "id": "70366fe806088527",
   "outputs": [
    {
     "data": {
      "text/plain": [
       "<Figure size 640x480 with 1 Axes>"
      ],
      "image/png": "[encoded data removed]"
     },
     "metadata": {},
     "output_type": "display_data"
    }
   ],
   "execution_count": 17
  },
  {
   "metadata": {
    "ExecuteTime": {
     "end_time": "2024-09-13T05:34:11.716336Z",
     "start_time": "2024-09-13T05:34:11.708683Z"
    }
   },
   "cell_type": "code",
   "source": "dimg = down_sample(img, 8)",
   "id": "67fbc719fadf8aea",
   "outputs": [],
   "execution_count": 15
  },
  {
   "metadata": {
    "ExecuteTime": {
     "end_time": "2024-09-13T05:34:12.353047Z",
     "start_time": "2024-09-13T05:34:12.342634Z"
    }
   },
   "cell_type": "code",
   "source": "dimg[int(y)//8, int(x)//8]",
   "id": "b8aba29477d059fc",
   "outputs": [
    {
     "data": {
      "text/plain": [
       "array([30, 30, 30], dtype=uint8)"
      ]
     },
     "execution_count": 16,
     "metadata": {},
     "output_type": "execute_result"
    }
   ],
   "execution_count": 16
  },
  {
   "metadata": {
    "ExecuteTime": {
     "end_time": "2024-09-13T05:34:46.764908Z",
     "start_time": "2024-09-13T05:34:45.649250Z"
    }
   },
   "cell_type": "code",
   "source": "view_image(dimg)",
   "id": "b34d2a89c19afd66",
   "outputs": [
    {
     "data": {
      "text/plain": [
       "<Figure size 640x480 with 1 Axes>"
      ],
      "image/png": "[encoded data removed]"
     },
     "metadata": {},
     "output_type": "display_data"
    }
   ],
   "execution_count": 18
  },
  {
   "metadata": {},
   "cell_type": "code",
   "outputs": [],
   "execution_count": null,
   "source": "",
   "id": "f794bd9c701c3b75"
  }
 ],
 "metadata": {
  "kernelspec": {
   "display_name": "Python 3",
   "language": "python",
   "name": "python3"
  },
  "language_info": {
   "codemirror_mode": {
    "name": "ipython",
    "version": 2
   },
   "file_extension": ".py",
   "mimetype": "text/x-python",
   "name": "python",
   "nbconvert_exporter": "python",
   "pygments_lexer": "ipython2",
   "version": "2.7.6"
  }
 },
 "nbformat": 4,
 "nbformat_minor": 5
}
